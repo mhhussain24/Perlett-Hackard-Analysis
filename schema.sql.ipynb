{
 "cells": [
  {
   "cell_type": "code",
   "execution_count": null,
   "metadata": {},
   "outputs": [],
   "source": [
    "--creating tables for ph-employeeDB\n",
    "CREATE TABLE departments (\n",
    "\tdept_no VARCHAR(4) not null,\n",
    "\tdept_name VARCHAR(40) NOT NULL,\n",
    "\tPRIMARY KEY (dept_no),\n",
    "\tUNIQUE (dept_name)\n",
    ");\n",
    "\n",
    "Create table employees (\n",
    "\temp_no int not null,\n",
    "\tbirth_date DATE not null,\n",
    "\tfirst_name varchar not null,\n",
    "\tlast_name varchar not null,\n",
    "\tgender varchar not null,\n",
    "\thire_date date not null,\n",
    "\tprimary key (emp_no)\n",
    ");\n",
    "\n",
    "Create table dept_manager (\n",
    "\tdept_no varchar(4) not null,\n",
    "\temp_no int not null,\n",
    "\tfrom_date date not null,\n",
    "\tto_date date not null,\n",
    "\tforeign key (emp_no) references employees (emp_no),\n",
    "\tforeign key (dept_no) references departments (dept_no),\n",
    "\tprimary key (emp_no, dept_no)\n",
    ");\n",
    "\n",
    "create table salaries (\n",
    "\temp_no int not null,\n",
    "\tsalary int not null,\n",
    "\tfrom_date date not null,\n",
    "\tto_date date not null,\n",
    "\tforeign key (emp_no) references employees (emp_no),\n",
    "\tprimary key (emp_no)\n",
    ");\n",
    "\n",
    "create table titles (\n",
    "\temp_no int not null,\n",
    "\ttitle varchar(20) not null,\n",
    "\tfrom_date date not null,\n",
    "\tto_date date not null,\n",
    "\tforeign key (emp_no) references employees (emp_no),\n",
    "\tprimary key (emp_no)\n",
    ");\n",
    "\n",
    "create table dept_emp (\n",
    "\temp_no int not null,\n",
    "\tdept_no varchar(4) not null,\n",
    "\tfrom_date date not null,\n",
    "\tto_date date not null,\n",
    "\tforeign key (emp_no) references employees (emp_no),\n",
    "\tforeign key (dept_no) references departments (dept_no),\n",
    "\tprimary key (emp_no, dept_no)\n",
    ");\n",
    "\n",
    "select * from departments;"
   ]
  }
 ],
 "metadata": {
  "interpreter": {
   "hash": "f2ed95e8dffa8d34ce4448308529f5794633a7ff981898b595a6f410d6920228"
  },
  "kernelspec": {
   "display_name": "PythonData",
   "language": "python",
   "name": "python3"
  },
  "language_info": {
   "name": "python",
   "version": "3.7.6"
  },
  "orig_nbformat": 4
 },
 "nbformat": 4,
 "nbformat_minor": 2
}
